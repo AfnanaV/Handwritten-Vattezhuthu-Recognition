{
 "cells": [
  {
   "cell_type": "markdown",
   "metadata": {
    "id": "r6oNcgVFhoDC"
   },
   "source": [
    ".00000#1## IMPORTING THE NECESSARY LIBRARIES"
   ]
  },
  {
   "cell_type": "code",
   "execution_count": null,
   "metadata": {
    "colab": {
     "base_uri": "https://localhost:8080/"
    },
    "id": "WzwLb4zkhy19",
    "outputId": "b09a2761-23dd-47eb-ecf3-c6160a20ef86"
   },
   "outputs": [
    {
     "name": "stdout",
     "output_type": "stream",
     "text": [
      "Collecting pyscreenshot\n",
      "  Downloading pyscreenshot-3.1-py3-none-any.whl (28 kB)\n",
      "Collecting EasyProcess (from pyscreenshot)\n",
      "  Downloading EasyProcess-1.1-py3-none-any.whl (8.7 kB)\n",
      "Collecting entrypoint2 (from pyscreenshot)\n",
      "  Downloading entrypoint2-1.1-py2.py3-none-any.whl (9.9 kB)\n",
      "Collecting mss (from pyscreenshot)\n",
      "  Downloading mss-9.0.1-py3-none-any.whl (22 kB)\n",
      "Requirement already satisfied: jeepney in /usr/lib/python3/dist-packages (from pyscreenshot) (0.7.1)\n",
      "Installing collected packages: entrypoint2, EasyProcess, mss, pyscreenshot\n",
      "Successfully installed EasyProcess-1.1 entrypoint2-1.1 mss-9.0.1 pyscreenshot-3.1\n"
     ]
    }
   ],
   "source": [
    "!pip install pyscreenshot"
   ]
  },
  {
   "cell_type": "code",
   "execution_count": null,
   "metadata": {
    "id": "dw4_XRx-htd6"
   },
   "outputs": [],
   "source": [
    "from pyscreenshot import ImageGrab\n",
    "import numpy as np\n",
    "import time"
   ]
  },
  {
   "cell_type": "markdown",
   "metadata": {
    "id": "vWKtGAj3hgK3"
   },
   "source": [
    "### GENERATING THE DATASET"
   ]
  },
  {
   "cell_type": "markdown",
   "metadata": {
    "id": "10Z2XCYYhkxX"
   },
   "source": [
    "Dataset is generated using the screen capture function. The letter is drawn in paint keeping the coordinates as mentioned in the function to capture the images drawn. 50 samples of each letter is generated using this function. Each letter folder is labelled as per their pronounciation."
   ]
  },
  {
   "cell_type": "code",
   "execution_count": null,
   "metadata": {
    "id": "_NIDHfdKhVpt"
   },
   "outputs": [],
   "source": [
    "def screen_capture():\n",
    "\n",
    "    images_folder=\"C:\\Users\\USER\\Documents\\DUK 2nd Sem\\Mini Project\\Vattezhuthu\\vattezhuthu images/YA\"\n",
    "    for i in range(31,41):\n",
    "        time.sleep(10)\n",
    "        im=ImageGrab.grab(bbox=(100,300,600,750))\n",
    "        print(\"Saved...\",i)\n",
    "        im.save(images_folder+str(i)+'.png')\n",
    "        print(\"Clear screen and redraw again\")\n",
    "\n",
    "screen_capture()"
   ]
  }
 ],
 "metadata": {
  "colab": {
   "provenance": []
  },
  "kernelspec": {
   "display_name": "Python 3 (ipykernel)",
   "language": "python",
   "name": "python3"
  },
  "language_info": {
   "codemirror_mode": {
    "name": "ipython",
    "version": 3
   },
   "file_extension": ".py",
   "mimetype": "text/x-python",
   "name": "python",
   "nbconvert_exporter": "python",
   "pygments_lexer": "ipython3",
   "version": "3.10.8"
  }
 },
 "nbformat": 4,
 "nbformat_minor": 1
}
